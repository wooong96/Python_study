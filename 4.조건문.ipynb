{
 "cells": [
  {
   "cell_type": "markdown",
   "metadata": {},
   "source": [
    "# Condition(조건문)\n",
    " - 특정 조건을 만족하는 경우에만 수행할 작업이 있는 경우 사용\n",
    " - 모든조건은 boolean으로 표현됨 (예외 사항은 아래 배울 예정)\n",
    " - 들여쓰기 된 코드를 블록(block), 또는 코드 블록이라고 함\n",
    " - python에서 모든 블록의 시작점의 마지막에는 :(콜론,colon) 추가가 필요"
   ]
  },
  {
   "cell_type": "code",
   "execution_count": 2,
   "metadata": {},
   "outputs": [
    {
     "name": "stdout",
     "output_type": "stream",
     "text": [
      "6 is greater than 5\n",
      "Yeah, it is true\n",
      "It is really true\n",
      "This is code is not belongs to if statements\n"
     ]
    }
   ],
   "source": [
    "if 6 >= 5:\n",
    "    print('6 is greater than 5')\n",
    "    print('Yeah, it is true')\n",
    "    print('It is really true') # 들여쓰기가 중요하다. 코드블록을 구분한다.\n",
    "\n",
    "print('This is code is not belongs to if statements') "
   ]
  },
  {
   "cell_type": "markdown",
   "metadata": {},
   "source": [
    "### 우선순위\n",
    " - NOT > AND > OR\n",
    "\n",
    "### if의 조건이 bool이 아닌경우\n",
    " - 일반적으로는 조건문에는 bool이 주로 위치함\n",
    " - 하지만, 정수, 실수, 문자열 리스트 등 기본타입도 조건에 사용 가능\n",
    " - False로 간주되는 값 (각 타입의 기본값)\n",
    "  - None\n",
    "  - 0\n",
    "  - 0.0\n",
    "  - ''\n",
    "  - [] -> 빈 리스트\n",
    "  - () -> 빈 튜플\n",
    "  - {} -> 빈 딕셔너리\n",
    "  - set() -> 빈 집합\n",
    " - 그 밖에는 모두 True로 간주\n",
    "\n",
    "### if, elif, else\n",
    " - 조건이 여러개인 경우, 다음조건을 elif 블록에 명시 가능\n",
    " - 조건문을 사용 할 때는, if 이후 0개이상의 elif를 사용 가능 하며 0개 또는 1개의 else를 사용 가능함"
   ]
  },
  {
   "cell_type": "code",
   "execution_count": 4,
   "metadata": {},
   "outputs": [
    {
     "name": "stdout",
     "output_type": "stream",
     "text": [
      "a is 10 and b is not 8\n"
     ]
    }
   ],
   "source": [
    "a = 10\n",
    "b = 9\n",
    "c = 8\n",
    "\n",
    "if a == 10:\n",
    "    if c == 8:\n",
    "        if b == 8:\n",
    "            print('a is 10 and b is 8')\n",
    "        elif b== 10:\n",
    "            print('a is 10 and b is 10')\n",
    "        else:\n",
    "            print('a is 10 and b is not 8')\n",
    "            \n"
   ]
  },
  {
   "cell_type": "code",
   "execution_count": null,
   "metadata": {},
   "outputs": [],
   "source": []
  }
 ],
 "metadata": {
  "kernelspec": {
   "display_name": "Python 3",
   "language": "python",
   "name": "python3"
  },
  "language_info": {
   "codemirror_mode": {
    "name": "ipython",
    "version": 3
   },
   "file_extension": ".py",
   "mimetype": "text/x-python",
   "name": "python",
   "nbconvert_exporter": "python",
   "pygments_lexer": "ipython3",
   "version": "3.8.5"
  }
 },
 "nbformat": 4,
 "nbformat_minor": 4
}
