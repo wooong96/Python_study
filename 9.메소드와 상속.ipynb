{
 "cells": [
  {
   "cell_type": "markdown",
   "metadata": {},
   "source": [
    "## method 정의\n",
    " - 멤버 함수라고도 하며, 해당 클래스의 object에서만 호출 가능\n",
    " - 메소드는 객체 레벨에서 호출되며, 해당 객체의 속성에 대한 연산을 행함\n",
    " - {obj}.{method}() 형태로 호출됨\n",
    " "
   ]
  },
  {
   "cell_type": "code",
   "execution_count": 19,
   "metadata": {},
   "outputs": [
    {
     "name": "stdout",
     "output_type": "stream",
     "text": [
      "현재의 값은:  0\n",
      "현재의 값은:  0\n",
      "현재의 값은:  1\n",
      "현재의 값은:  3\n"
     ]
    }
   ],
   "source": [
    "class Counter:\n",
    "    def __init__(self):\n",
    "        self.num = 0\n",
    "    \n",
    "    def increment(self):\n",
    "        self.num += 1\n",
    "        \n",
    "    def num_3(self):\n",
    "        self.num = 3\n",
    "    \n",
    "    def print_current_value(self):\n",
    "        print('현재의 값은: ',self.num)\n",
    "\n",
    "c1 = Counter()\n",
    "c1.print_current_value()\n",
    "\n",
    "c2 = Counter()\n",
    "c2.print_current_value()\n",
    "\n",
    "c1.increment()\n",
    "c2.num_3()\n",
    "c1.print_current_value()\n",
    "c2.print_current_value()"
   ]
  },
  {
   "cell_type": "code",
   "execution_count": 42,
   "metadata": {},
   "outputs": [
    {
     "name": "stdout",
     "output_type": "stream",
     "text": [
      "30\n",
      "200\n"
     ]
    }
   ],
   "source": [
    "class Math:\n",
    "    @staticmethod  # 자기 내부의 데이터를 유지하는 것이 없고 처리만 하는 경우 staticmethod이다.\n",
    "    def add(a, b):\n",
    "        return a + b\n",
    "    \n",
    "    @staticmethod\n",
    "    def multiply(a, b):\n",
    "        return a * b\n",
    "\n",
    "class Math1:\n",
    "    def add(self, a, b):\n",
    "        return a + b\n",
    "    def multiply(self, a, b):\n",
    "        return a * b\n",
    "\n",
    "m = Math1() # 객체 생성\n",
    "print(m.add(10,20))\n",
    "\n",
    "print(Math.multiply(10, 20))  # 객체를 생성할 필요가 없고 클래스 이름으로 사용가능"
   ]
  },
  {
   "cell_type": "markdown",
   "metadata": {},
   "source": [
    "## Class Inheritance (상속)\n",
    " - 기존에 정의해둔 클래스의 기능을 그대로 물려 받을 수 있다.\n",
    " - 기존 클래스에 기능 일부를 추가하거나, 변경하여 새로운 클래스를 정의한다.\n",
    " - 코드를 재사용 할 수 있게된다.\n",
    " - 상속받고자 하는 대상인 기존 클래스는 (Parent,Super,Base class 라고 부른다.)\n",
    " - 상속 받는 새로운 클래스는(Child,Sub,Derived class 라고 부른다.)\n",
    " - 의미적으로 is-a 관계를 갖는다."
   ]
  },
  {
   "cell_type": "code",
   "execution_count": 53,
   "metadata": {},
   "outputs": [
    {
     "name": "stdout",
     "output_type": "stream",
     "text": [
      "Bob은 라면를 먹습니다.\n",
      "Bob은 30분동안 잡니다.\n",
      "Bob은 60분동안 일합니다.\n"
     ]
    }
   ],
   "source": [
    "class Person:\n",
    "    def __init__(self,name,age):\n",
    "        self.name = name\n",
    "        self.age = age\n",
    "    \n",
    "    def eat(self,food):\n",
    "        print('{}은 {}를 먹습니다.'.format(self.name, food))\n",
    "    \n",
    "    def sleep(self,minute):\n",
    "        print('{}은 {}분동안 잡니다.'.format(self.name, minute))\n",
    "        \n",
    "    def work(self, minute):\n",
    "        print('{}은 {}분동안 일합니다.'.format(self.name, minute))\n",
    "        \n",
    "class Student(Person): # 괄호안에 부모클래스 이름을 넣는다.\n",
    "    def __init__(self,name,age):\n",
    "        self.name = name\n",
    "        self.age = age\n",
    "    \n",
    "\n",
    "class Employee(Person):\n",
    "     def __init__(self,name,age):\n",
    "        self.name = name\n",
    "        self.age = age\n",
    "    \n",
    "\n",
    "bob = Person('Bob',25)\n",
    "bob.eat('라면')\n",
    "bob.sleep(30)\n",
    "bob.work(60)"
   ]
  },
  {
   "cell_type": "code",
   "execution_count": 54,
   "metadata": {},
   "outputs": [
    {
     "name": "stdout",
     "output_type": "stream",
     "text": [
      "Bob은 라면를 먹습니다.\n",
      "Bob은 30분동안 공부합니다.\n",
      "Bob은 30분동안 일합니다.\n",
      "Bob은 60분동안 잡니다.\n"
     ]
    }
   ],
   "source": [
    "class Person:\n",
    "    def __init__(self,name,age):\n",
    "        self.name = name\n",
    "        self.age = age\n",
    "    \n",
    "    def eat(self,food):\n",
    "        print('{}은 {}를 먹습니다.'.format(self.name, food))\n",
    "    \n",
    "    def sleep(self,minute):\n",
    "        print('{}은 {}분동안 잡니다.'.format(self.name, minute))\n",
    "        \n",
    "    def work(self, minute):\n",
    "        print('{}은 {}분동안 일합니다.'.format(self.name, minute))\n",
    "        \n",
    "class Student(Person): \n",
    "    def __init__(self,name,age):\n",
    "        self.name = name\n",
    "        self.age = age\n",
    "    def work(self, minute):\n",
    "        print('{}은 {}분동안 공부합니다.'.format(self.name, minute))\n",
    "        # 부모클래스의 똑같은 메소드를 재정의\n",
    "        # 부모 클래스의 method를 재정의 (overide) - 오버라이드\n",
    "        # 하위 클래스(자식클래스) 의 인스턴스로 호출시, 재정의된 메소드가 호출 됨\n",
    "        super().work(minute)\n",
    "        # 하위 클래스(자식클래스)에서 부모클래스의 method를 호출 할 떄 사용\n",
    "        # 오버라이드를 할 경우 부모 클래스를 사용하지 못하기 때문에 super를 통해 호출이 가능하다\n",
    "\n",
    "class Employee(Person):\n",
    "     def __init__(self,name,age):\n",
    "        self.name = name\n",
    "        self.age = age\n",
    "    \n",
    "    \n",
    "\n",
    "bob = Student('Bob',25)\n",
    "bob.eat('라면')\n",
    "bob.work(30) # Student에서는 공부합니다로 나오게된다. Person 에서는 일합니다.로 나온다.\n",
    "bob.sleep(60)"
   ]
  },
  {
   "cell_type": "markdown",
   "metadata": {},
   "source": [
    "## special method\n",
    " - __로 시작 __로 끝나는 특수함수\n",
    " - 해당 메소드들을 구현하면, 커스텀 객체에 여러가지 파이썬 내장함수나 연산자를 적용가능"
   ]
  },
  {
   "cell_type": "code",
   "execution_count": null,
   "metadata": {},
   "outputs": [],
   "source": [
    "class Point:\n",
    "    def __init__(self, x, y):\n",
    "        self.x = x\n",
    "        self.y = y\n",
    "    \n",
    "    def __add__(self,pt):\n",
    "        new_x = self.x + pt.x\n",
    "        new_y = self.y + pt.y\n",
    "        return Point(new_x, new_y)\n",
    "    \n",
    "    def __sub__(self,pt):\n",
    "        new_x = self.x - pt.x\n",
    "        new_y = self.y - pt.y\n",
    "        return Point(new_x, new_y)\n",
    "    \n",
    "    def __mul__(self, factor):\n",
    "        return Point(self.x * factor, self.y * factor)\n",
    "    \n",
    "    def __len__(self):\n",
    "        return self.x **2 + self.y **2\n",
    "    \n",
    "    def __str__(self): # 문자열 구현 함수\n",
    "        return '({}, {})'.format(self.x, self.y)\n",
    "    \n",
    "    def __getitem__(self, index):\n",
    "        if index == 0:\n",
    "            return self.x\n",
    "        elif index == 1:\n",
    "            return self.y\n",
    "        else:\n",
    "            return -1\n",
    "\n",
    "\n",
    "\n",
    "    \n",
    "    \n",
    "p1 = Point(3, 4)\n",
    "p2 = Point(2, 7)\n",
    "\n",
    "print(p1) # __str__\n",
    "\n",
    "p3 = p1 + p2 # __add__   //  p1.add(p2) \n",
    "print(p3)\n",
    "\n",
    "p4 = p1 - p2 # __sub__ // p1.sub(p2)\n",
    "print(p4)\n",
    "\n",
    "p5 = p1 * 3 # __mul__ // p5 = p1.multiply(3)\n",
    "print(p5)\n",
    "\n",
    "p6 = len(p1) # __len__ // p6 = length(p1)\n",
    "print(p6)\n",
    "\n",
    "p7 = p1[1] #__getitem__ //  p7 = p1.get_y()\n",
    "print(p7)"
   ]
  },
  {
   "cell_type": "code",
   "execution_count": null,
   "metadata": {},
   "outputs": [],
   "source": [
    "# 복소수 클래스 정의\n",
    "# 덧셈 뺄셈 곱셈 연산자 지원\n",
    "# 길이 (복소수의 크기) 지원\n",
    "# 복소수 출력 '1 + 4j' 와 같이 표현\n",
    "# 비교 연산 == , != 지원\n",
    "# 절대값 지원\n"
   ]
  },
  {
   "cell_type": "code",
   "execution_count": null,
   "metadata": {},
   "outputs": [],
   "source": [
    "import math\n",
    "\n",
    "class ComplexNumber:\n",
    "    def __init__(self, real , img):\n",
    "        self. real = real\n",
    "        self. img = img\n",
    "    \n",
    "    def __add__(self, cn):\n",
    "        return ComplexNumber(self.real + cn.real, self.img + cn.img)\n",
    "    \n",
    "    def __sub__(self, cn):\n",
    "        return ComplexNumber(self.real - cn.real, self.img - cn.img)\n",
    "    \n",
    "    def __mul__(self, cn):\n",
    "        if type(cn) == int:\n",
    "            return ComplexNumber(self.real * cn, self.img * cn)\n",
    "        elif type(cn) == ComplexNumber:\n",
    "            return ComplexNumber(self.real * cn.real - self.img * cn.img, self.real * cn .img + self.img * cn.real)\n",
    "            # (a + bj) * (c + dj) = (ac - bd) + (ad + bc)j\n",
    "    \n",
    "    def __eq__(self, cn):\n",
    "        return self.real == cn.real and self.img == cn.img\n",
    "    \n",
    "    def __abs__(self):\n",
    "        return math.sqrt(self.real ** 2 + self.img **2 )\n",
    "        \n",
    "\n",
    "                                 \n",
    "    def __str__(self):\n",
    "        if self.img > 0:\n",
    "            return '{} + {}j'.format(self.real, self.img)\n",
    "        else:\n",
    "            return '{} - {}j'.format(self.real, abs(self.img))\n",
    "    \n",
    "    \n",
    "    \n",
    "a = ComplexNumber(20,30)\n",
    "b = ComplexNumber(10,20)\n",
    "a == b\n",
    "abs(a)"
   ]
  },
  {
   "cell_type": "code",
   "execution_count": null,
   "metadata": {},
   "outputs": [],
   "source": []
  },
  {
   "cell_type": "code",
   "execution_count": null,
   "metadata": {},
   "outputs": [],
   "source": []
  }
 ],
 "metadata": {
  "kernelspec": {
   "display_name": "Python 3",
   "language": "python",
   "name": "python3"
  },
  "language_info": {
   "codemirror_mode": {
    "name": "ipython",
    "version": 3
   },
   "file_extension": ".py",
   "mimetype": "text/x-python",
   "name": "python",
   "nbconvert_exporter": "python",
   "pygments_lexer": "ipython3",
   "version": "3.8.5"
  }
 },
 "nbformat": 4,
 "nbformat_minor": 4
}
