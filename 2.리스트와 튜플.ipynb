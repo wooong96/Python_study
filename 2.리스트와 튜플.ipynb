{
 "cells": [
  {
   "cell_type": "markdown",
   "metadata": {},
   "source": [
    "## 리스트 & 튜플\n",
    " - 복수개의 값을 담을 수 있는 데이터 구조\n",
    " - 실생활에서 사용하는 리스트(학생 리스트, 성적 리스트 등등) 과 동일한 의미로 이해\n",
    " - list -mutable(생성된 후에 변경 가능)\n",
    " - tuple -immutable(생성된 후에 변경 불가능)\n",
    " "
   ]
  },
  {
   "cell_type": "code",
   "execution_count": 4,
   "metadata": {},
   "outputs": [
    {
     "name": "stdout",
     "output_type": "stream",
     "text": [
      "[]\n",
      "[1, 2, 3, 5, 10]\n",
      "['Korea', 'Canada', 1, 23, [34, 56]]\n"
     ]
    }
   ],
   "source": [
    "a = [] #대괄호로 리스트 생성\n",
    "print(a)\n",
    "\n",
    "b = [1,2,3,5,10]\n",
    "print(b)\n",
    "\n",
    "c = ['Korea', 'Canada', 1, 23, [34,56]]\n",
    "print(c)\n"
   ]
  },
  {
   "cell_type": "code",
   "execution_count": 5,
   "metadata": {},
   "outputs": [
    {
     "name": "stdout",
     "output_type": "stream",
     "text": [
      "['h', 'e', 'l', 'l', 'o', ' ', 'w', 'o', 'r', 'l', 'd']\n",
      "[1, 2, 3]\n"
     ]
    }
   ],
   "source": [
    "a = 'hello world'\n",
    "b = list(a) #list로 바꿔줌\n",
    "print(b)\n",
    "\n",
    "c = (1,2,3) #소괄호로 튜플 생성\n",
    "d = list(c)\n",
    "\n",
    "print(d)"
   ]
  },
  {
   "cell_type": "code",
   "execution_count": 6,
   "metadata": {},
   "outputs": [
    {
     "name": "stdout",
     "output_type": "stream",
     "text": [
      "['hello', 'world', 'nice', 'weather']\n"
     ]
    }
   ],
   "source": [
    "a = 'hello world nice weather'\n",
    "b = a.split() #\\띄어쓰기로 나눠줌\n",
    "\n",
    "print(b)"
   ]
  },
  {
   "cell_type": "code",
   "execution_count": 7,
   "metadata": {},
   "outputs": [
    {
     "name": "stdout",
     "output_type": "stream",
     "text": [
      "h\n",
      "jello world\n",
      "jello world\n",
      "jello world\n"
     ]
    }
   ],
   "source": [
    "#문자열은 불변(immutable) 객체이다.\n",
    "a = 'hello world'\n",
    "print(a[0])\n",
    "\n",
    "b = 'jello world' #새로 입력하거나\n",
    "c = 'j' + a[1:] #이렇게 합쳐서 사용\n",
    "\n",
    "\n",
    "print(b)\n",
    "print(c)\n",
    "print(a.replace('h','j')) #replace를 사용한다고 'a' 가 바뀌지는 않아\n",
    "\n"
   ]
  },
  {
   "cell_type": "code",
   "execution_count": 8,
   "metadata": {},
   "outputs": [
    {
     "name": "stdout",
     "output_type": "stream",
     "text": [
      "[100, 2, 3, 4, 90]\n"
     ]
    }
   ],
   "source": [
    "#문자열은 불변이지만 숫자는 바뀐다.\n",
    "a = [1, 2, 3, 4, 5]\n",
    "a[0] = 100\n",
    "a[-1] = 90\n",
    "\n",
    "print(a)"
   ]
  },
  {
   "cell_type": "code",
   "execution_count": 9,
   "metadata": {},
   "outputs": [
    {
     "name": "stdout",
     "output_type": "stream",
     "text": [
      "[5, 6, 7]\n",
      "[3, 4, 5, 6, 7, 8]\n"
     ]
    },
    {
     "data": {
      "text/plain": [
       "[2, 4, 6]"
      ]
     },
     "execution_count": 9,
     "metadata": {},
     "output_type": "execute_result"
    }
   ],
   "source": [
    "#리스트 slicing은 문자열 슬라이싱과 동일하게 동작한다.\n",
    "a = [1, 2, 3, 4, 5, 6, 7,8]\n",
    "print(a[4:7])\n",
    "print(a[2:])\n",
    "\n",
    "# slicing\n",
    "# star:end:increment(1)\n",
    "\n",
    "a[1:7:2] #건너 뛰는것이 2칸\n"
   ]
  },
  {
   "cell_type": "markdown",
   "metadata": {},
   "source": [
    "# list 멤버함수\n",
    " - append()\n",
    " - 리스트의 끝에 항목을 추가함"
   ]
  },
  {
   "cell_type": "code",
   "execution_count": 10,
   "metadata": {},
   "outputs": [
    {
     "name": "stdout",
     "output_type": "stream",
     "text": [
      "[1, 2, 3, 4, 5, 10]\n"
     ]
    }
   ],
   "source": [
    "a = [1,2,3,4,5]\n",
    "a.append(10) #리스트의 끝에 추가\n",
    "\n",
    "print(a)"
   ]
  },
  {
   "cell_type": "code",
   "execution_count": 11,
   "metadata": {},
   "outputs": [
    {
     "name": "stdout",
     "output_type": "stream",
     "text": [
      "[1, 2, 3, 4, 5, [6, 7, 8, 9, 10]]\n",
      "[6, 7, 8, 9, 10]\n",
      "[1, 2, 3, 4, 5, [6, 7, 8, 9, 10], 6, 7, 8, 9, 10]\n"
     ]
    }
   ],
   "source": [
    "a = [1, 2, 3, 4, 5]\n",
    "b = [6, 7, 8, 9, 10]\n",
    "\n",
    "a.append(b)\n",
    "print(a) \n",
    "print(a[5]) #리스트 자체가 추가 되어버린다.\n",
    "\n",
    "a.extend(b)\n",
    "print(a)\n"
   ]
  },
  {
   "cell_type": "code",
   "execution_count": 12,
   "metadata": {},
   "outputs": [
    {
     "name": "stdout",
     "output_type": "stream",
     "text": [
      "[1, 2, 3, 4, 5, 6, 7, 8, 9, 10]\n",
      "[1, 2, 3, 4, 5, 6, 7, 8, 9, 10, 6, 7, 8, 9, 10]\n"
     ]
    }
   ],
   "source": [
    "a = [1, 2, 3, 4, 5]\n",
    "\n",
    "a.extend(b) # extend를 사용한다.\n",
    "print(a)\n",
    "\n",
    "a += b  # '+' 를 사용해서 연장 가능하다.\n",
    "print(a)\n"
   ]
  },
  {
   "cell_type": "markdown",
   "metadata": {},
   "source": [
    "- insert()로 항목추가\n",
    " - 리스트의 원하는 위치에 추가가 가능\n",
    " - 앞에 인덱스를, 뒤에 아이템을 명시\n",
    "\n",
    "- remove()\n",
    " - 값으로 항목 삭제\n",
    " "
   ]
  },
  {
   "cell_type": "code",
   "execution_count": 13,
   "metadata": {},
   "outputs": [
    {
     "name": "stdout",
     "output_type": "stream",
     "text": [
      "[1, 40, 3, 4, 5, 6]\n",
      "[1, 40, 4, 5, 6]\n",
      "5\n",
      "[1, 40, 4, 6]\n",
      "1\n"
     ]
    }
   ],
   "source": [
    "a = [1, 3, 4, 5, 6]\n",
    "a.insert(1, 40)\n",
    "\n",
    "print(a)\n",
    "\n",
    "a.remove(3) #인덱스 값이 아닌 그 값 자체를 지운다.\n",
    "print(a)\n",
    "\n",
    "b =a.pop(3) #값 자체가 아닌 인덱스 값으로 반환후 지운다.\n",
    "print(b)\n",
    "print(a)\n",
    "\n",
    "print(a.index(40)) # 찾고자 하는 값의 인덱스를 반환\n"
   ]
  },
  {
   "cell_type": "code",
   "execution_count": 14,
   "metadata": {},
   "outputs": [
    {
     "name": "stdout",
     "output_type": "stream",
     "text": [
      "False\n"
     ]
    }
   ],
   "source": [
    "a = [1,2,3,4,5,6]\n",
    "b = 10\n",
    "\n",
    "c = b in a #False\n",
    "\n",
    "print(c)\n"
   ]
  },
  {
   "cell_type": "code",
   "execution_count": 15,
   "metadata": {},
   "outputs": [
    {
     "name": "stdout",
     "output_type": "stream",
     "text": [
      "[1, 2, 7, 7, 8, 9, 10, 19, 20, 21]\n",
      "[9, 10, 7, 19, 1, 2, 20, 21, 7, 8]\n",
      "[1, 2, 7, 7, 8, 9, 10, 19, 20, 21]\n"
     ]
    }
   ],
   "source": [
    "a = [9, 10, 7, 19 ,1, 2, 20 ,21 ,7, 8]\n",
    "a.sort()\n",
    "print(a) #a 자체가 바뀌는 것을 알 수있다.\n",
    "\n",
    "a = [9, 10, 7, 19 ,1, 2, 20 ,21 ,7, 8]\n",
    "b = sorted(a)\n",
    "print(a) #a 는 변하지 않고 \n",
    "print(b) #정렬된 복사본을 반환"
   ]
  },
  {
   "cell_type": "markdown",
   "metadata": {},
   "source": [
    "# Tuple\n",
    " - 리스트와 같이 복수개의 값을 갖는 컬렉션타입\n",
    " - 생성된 후 변경이 불가능"
   ]
  },
  {
   "cell_type": "code",
   "execution_count": 18,
   "metadata": {},
   "outputs": [
    {
     "name": "stdout",
     "output_type": "stream",
     "text": [
      "<class 'list'>\n",
      "<class 'tuple'>\n",
      "[100, 2, 3]\n"
     ]
    }
   ],
   "source": [
    "a = [1,2,3]\n",
    "b = (1,2,3) #괄호로 생성\n",
    "\n",
    "print(type(a))\n",
    "print(type(b))\n",
    "\n",
    "a[0] = 100\n",
    "print(a)\n",
    "\n",
    "# b[0] <- 튜플은 immutable이므로 사용불가"
   ]
  },
  {
   "cell_type": "code",
   "execution_count": 19,
   "metadata": {},
   "outputs": [
    {
     "name": "stdout",
     "output_type": "stream",
     "text": [
      "100 200\n"
     ]
    }
   ],
   "source": [
    "a, b = 100, 200\n",
    "print(a,b)\n",
    "#괄호를 사용하지 않고 한번에 여러개의 변수를 설정가능"
   ]
  },
  {
   "cell_type": "code",
   "execution_count": 20,
   "metadata": {},
   "outputs": [
    {
     "name": "stdout",
     "output_type": "stream",
     "text": [
      "5 4\n",
      "4 5\n"
     ]
    }
   ],
   "source": [
    "a = 5\n",
    "b = 4\n",
    "\n",
    "print(a,b)\n",
    "\n",
    "#temp = a\n",
    "#a = b\n",
    "#b = temp\n",
    "\n",
    "a,b = b,a\n",
    "\n",
    "print(a,b)\n"
   ]
  },
  {
   "cell_type": "code",
   "execution_count": null,
   "metadata": {},
   "outputs": [],
   "source": []
  }
 ],
 "metadata": {
  "kernelspec": {
   "display_name": "Python 3",
   "language": "python",
   "name": "python3"
  },
  "language_info": {
   "codemirror_mode": {
    "name": "ipython",
    "version": 3
   },
   "file_extension": ".py",
   "mimetype": "text/x-python",
   "name": "python",
   "nbconvert_exporter": "python",
   "pygments_lexer": "ipython3",
   "version": "3.8.5"
  }
 },
 "nbformat": 4,
 "nbformat_minor": 4
}
