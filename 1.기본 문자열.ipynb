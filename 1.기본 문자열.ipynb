{
 "cells": [
  {
   "cell_type": "markdown",
   "metadata": {},
   "source": [
    "# 2016037046 김선웅\n",
    " ## 기본적인 사용법\n",
    " - M Markdown\n",
    " - A 위로 한줄 생성\n",
    " - B 아래로 한줄 생성\n",
    " - H 도움말\n",
    " - 쉬프트 + 텝을 활용해 함수를 확인할 수 있다."
   ]
  },
  {
   "cell_type": "code",
   "execution_count": 1,
   "metadata": {},
   "outputs": [
    {
     "name": "stdout",
     "output_type": "stream",
     "text": [
      "<class 'float'>\n"
     ]
    }
   ],
   "source": [
    "a= 10\n",
    "b = 11.4\n",
    "\n",
    "c=type(b)\n",
    "print(c)"
   ]
  },
  {
   "cell_type": "code",
   "execution_count": 2,
   "metadata": {},
   "outputs": [
    {
     "name": "stdout",
     "output_type": "stream",
     "text": [
      "10 11.4\n",
      "10 10 200 11.4\n",
      "10*11.4*10*100!!"
     ]
    }
   ],
   "source": [
    "print(a, b)\n",
    "print(a, 10, 200, b)\n",
    "print(a, b, 10, 100, sep = '*', end='!!')"
   ]
  },
  {
   "cell_type": "code",
   "execution_count": 3,
   "metadata": {},
   "outputs": [
    {
     "name": "stdout",
     "output_type": "stream",
     "text": [
      "None\n",
      "729\n"
     ]
    }
   ],
   "source": [
    "c = None\n",
    "print(c)\n",
    "\n",
    "a = 9\n",
    "a **= 3\n",
    "print(a)"
   ]
  },
  {
   "cell_type": "code",
   "execution_count": 4,
   "metadata": {},
   "outputs": [
    {
     "name": "stdout",
     "output_type": "stream",
     "text": [
      "\"Hello\" World\n",
      "'Hello' World'\n"
     ]
    }
   ],
   "source": [
    "a= '\"Hello\" World'\n",
    "b = \"'Hello' World'\"\n",
    "print(a)\n",
    "print(b)"
   ]
  },
  {
   "cell_type": "code",
   "execution_count": 5,
   "metadata": {},
   "outputs": [
    {
     "name": "stdout",
     "output_type": "stream",
     "text": [
      "Hello\n",
      "\n",
      "World\n",
      "Hello\n",
      "\n",
      "World\n"
     ]
    }
   ],
   "source": [
    "#''''나 \"\"\"를 이용하여 엔터키 자체 그대로 출력가능#\n",
    "\n",
    "c = '''Hello\n",
    "\n",
    "World'''\n",
    "\n",
    "d = \"\"\"Hello\n",
    "\n",
    "World\"\"\"\n",
    "\n",
    "print(c)\n",
    "print(d)"
   ]
  },
  {
   "cell_type": "code",
   "execution_count": 6,
   "metadata": {},
   "outputs": [
    {
     "name": "stdout",
     "output_type": "stream",
     "text": [
      "H\n",
      "d\n",
      "d\n",
      "H\n"
     ]
    }
   ],
   "source": [
    "a = 'Hello world' #길이 :11\n",
    "\n",
    "print(a[0])\n",
    "print(a[10])\n",
    "print(a[-1]) #- -1이 가장 마지막 인덱스를, -2가 마지막에서 두번째 인덱스를 의미\n",
    "print(a[-11])"
   ]
  },
  {
   "cell_type": "code",
   "execution_count": 7,
   "metadata": {},
   "outputs": [
    {
     "name": "stdout",
     "output_type": "stream",
     "text": [
      "ello w\n",
      "lo world\n",
      "Hello world\n"
     ]
    }
   ],
   "source": [
    "a = 'Hello world'\n",
    "print(a[1:7]) #마지막숫자는 포함하지 않는다.\n",
    "print(a[3:])\n",
    "print(a[:])"
   ]
  },
  {
   "cell_type": "code",
   "execution_count": 8,
   "metadata": {},
   "outputs": [
    {
     "name": "stdout",
     "output_type": "stream",
     "text": [
      "HELLO WORLD\n",
      "jello world\n"
     ]
    }
   ],
   "source": [
    "a = 'hello world'\n",
    "print(a.upper())\n",
    "\n",
    "\n",
    "print(a.replace('h','j'))\n"
   ]
  },
  {
   "cell_type": "code",
   "execution_count": 9,
   "metadata": {},
   "outputs": [
    {
     "name": "stdout",
     "output_type": "stream",
     "text": [
      "오늘 기온은 25.5도 이고, 비올 확률은 80.0% 입니다.\n"
     ]
    }
   ],
   "source": [
    "temperature = 25.5\n",
    "prob = 80.0\n",
    "\n",
    "a = '오늘 기온은 {}도 이고, 비올 확률은 {}% 입니다.'.format(temperature, prob) \n",
    "#문자열내의 특정한 값을 변수로부터 초기화하여 동적으로 문자열을 생성\n",
    "print(a)"
   ]
  },
  {
   "cell_type": "code",
   "execution_count": 10,
   "metadata": {},
   "outputs": [
    {
     "name": "stdout",
     "output_type": "stream",
     "text": [
      "['hello', 'world', 'what', 'a', 'nice', 'weather']\n",
      "['hello ', 'orld ', 'hat a nice ', 'eather']\n"
     ]
    }
   ],
   "source": [
    "a = 'hello world what a nice weather'\n",
    "b = a.split()\n",
    "c = a.split('w')\n",
    "print(b)\n",
    "print(c)"
   ]
  },
  {
   "cell_type": "code",
   "execution_count": null,
   "metadata": {},
   "outputs": [],
   "source": []
  },
  {
   "cell_type": "code",
   "execution_count": null,
   "metadata": {},
   "outputs": [],
   "source": []
  }
 ],
 "metadata": {
  "kernelspec": {
   "display_name": "Python 3",
   "language": "python",
   "name": "python3"
  },
  "language_info": {
   "codemirror_mode": {
    "name": "ipython",
    "version": 3
   },
   "file_extension": ".py",
   "mimetype": "text/x-python",
   "name": "python",
   "nbconvert_exporter": "python",
   "pygments_lexer": "ipython3",
   "version": "3.8.5"
  }
 },
 "nbformat": 4,
 "nbformat_minor": 4
}
