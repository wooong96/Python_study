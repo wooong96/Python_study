{
 "cells": [
  {
   "cell_type": "markdown",
   "metadata": {},
   "source": [
    "# loop (반복문)\n",
    "   - 반복적인 작업을 가능하게 해주는 도구\n",
    "   - 특정 조건을 만족하는 경우 수행할 수 있음(while)\n",
    "   - 주의할점: while을 사용할 경우, 반복을 멈추게하는 장치가 필요\n",
    "   - while 코드 블록은 if와 마찬가지로 while문 아래의 들여쓰기로 작성 된 부분을 의미 \n",
    "    "
   ]
  },
  {
   "cell_type": "code",
   "execution_count": 3,
   "metadata": {},
   "outputs": [
    {
     "name": "stdout",
     "output_type": "stream",
     "text": [
      "Value:  1 , Index:  0\n",
      "Value:  10 , Index:  1\n",
      "Value:  9 , Index:  2\n",
      "Value:  24 , Index:  3\n",
      "Value:  566 , Index:  4\n",
      "Value:  23 , Index:  5\n",
      "Value:  45 , Index:  6\n",
      "Value:  67 , Index:  7\n",
      "Value:  89 , Index:  8\n",
      "The end\n"
     ]
    }
   ],
   "source": [
    "a = [1, 10, 9 , 24, 566, 23, 45, 67, 89]\n",
    "\n",
    "i = 0 # 인덱스\n",
    "while i < len(a):\n",
    "    print('Value: ', a[i], ', Index: ', i)\n",
    "    i += 1\n",
    "\n",
    "print('The end')"
   ]
  },
  {
   "cell_type": "code",
   "execution_count": 4,
   "metadata": {},
   "outputs": [
    {
     "name": "stdout",
     "output_type": "stream",
     "text": [
      "1\n",
      "10\n",
      "9\n",
      "The end\n"
     ]
    }
   ],
   "source": [
    "a = [1, 10, 9 , 24, 566, 23, 45, 67, 89]\n",
    "\n",
    "i = 0\n",
    "while i < len(a):\n",
    "    \n",
    "    if a[i] >20:\n",
    "        break\n",
    "    print(a[i])\n",
    "    i += 1\n",
    "    \n",
    "print('The end')"
   ]
  },
  {
   "cell_type": "code",
   "execution_count": 6,
   "metadata": {},
   "outputs": [
    {
     "name": "stdout",
     "output_type": "stream",
     "text": [
      "6\n",
      "4\n",
      "3\n",
      "2\n",
      "1\n",
      "0\n"
     ]
    }
   ],
   "source": [
    "a = 7\n",
    "while a >0:\n",
    "    a-=1\n",
    "    if a == 5:\n",
    "        continue # a =5 일때 바로 while문 다시시작\n",
    "    print(a)\n",
    "    "
   ]
  },
  {
   "cell_type": "code",
   "execution_count": 8,
   "metadata": {},
   "outputs": [
    {
     "name": "stdout",
     "output_type": "stream",
     "text": [
      "5050\n"
     ]
    }
   ],
   "source": [
    "num = 1\n",
    "sum = 0\n",
    "\n",
    "while num <=100:\n",
    "    sum += num\n",
    "    num += 1\n",
    "    \n",
    "print (sum) # 1부터 100까지의 합"
   ]
  },
  {
   "cell_type": "markdown",
   "metadata": {},
   "source": [
    "# for 반복문\n",
    " - 리스트, 문자열 등등 순회 가능한 객체를 순회하면서 값을 처리할 때 사용\n",
    " - 모든 아이템이 순회되면 for 블록 종료"
   ]
  },
  {
   "cell_type": "code",
   "execution_count": 1,
   "metadata": {},
   "outputs": [
    {
     "name": "stdout",
     "output_type": "stream",
     "text": [
      "1 2\n",
      "2 4\n",
      "4 8\n",
      "3 6\n",
      "5 10\n",
      "The end\n"
     ]
    }
   ],
   "source": [
    "a = [1, 2, 4, 3, 5] # List 순회 가능\n",
    "for i in a:\n",
    "    print(i, i*2)\n",
    "print('The end')"
   ]
  },
  {
   "cell_type": "code",
   "execution_count": 2,
   "metadata": {},
   "outputs": [
    {
     "name": "stdout",
     "output_type": "stream",
     "text": [
      "h\n",
      "e\n",
      "l\n",
      "l\n",
      "o\n",
      " \n",
      "w\n",
      "o\n",
      "r\n",
      "l\n",
      "d\n"
     ]
    }
   ],
   "source": [
    "a = 'hello world' # 문자열 순회 가능\n",
    "for ch in a:\n",
    "    print(ch)\n",
    "    "
   ]
  },
  {
   "cell_type": "code",
   "execution_count": 3,
   "metadata": {},
   "outputs": [
    {
     "name": "stdout",
     "output_type": "stream",
     "text": [
      "korea seoul\n",
      "japan tokyo\n",
      "canada ottawa\n",
      "seoul\n",
      "tokyo\n",
      "ottawa\n"
     ]
    }
   ],
   "source": [
    "a = {'korea' : 'seoul', 'japan' : 'tokyo', 'canada' : 'ottawa'}\n",
    "\n",
    "for key in a:\n",
    "    print(key,a[key])\n",
    "\n",
    "for value in a.values():\n",
    "    print(value)"
   ]
  },
  {
   "cell_type": "code",
   "execution_count": 4,
   "metadata": {},
   "outputs": [
    {
     "name": "stdout",
     "output_type": "stream",
     "text": [
      "dict_items([('korea', 'seoul'), ('japan', 'tokyo'), ('canada', 'ottawa')])\n",
      "[('korea', 'seoul'), ('japan', 'tokyo'), ('canada', 'ottawa')]\n",
      "korea seoul\n",
      "japan tokyo\n",
      "canada ottawa\n"
     ]
    }
   ],
   "source": [
    "print(a.items())\n",
    "print(list(a.items()))\n",
    "\n",
    "for key, value in a.items():\n",
    "    print(key,value)"
   ]
  },
  {
   "cell_type": "code",
   "execution_count": 5,
   "metadata": {},
   "outputs": [
    {
     "name": "stdout",
     "output_type": "stream",
     "text": [
      "4 9\n",
      "5 11\n"
     ]
    }
   ],
   "source": [
    "a = [1, 3, 5, 7, 9, 11]\n",
    "for index, num in enumerate(a): # enumerate함수를 통해서 인덱스와 value를 가져올수있다.\n",
    "    if index > 3:\n",
    "        print(index,num)\n"
   ]
  },
  {
   "cell_type": "markdown",
   "metadata": {},
   "source": [
    "## range 함수\n",
    " - 리스트를 쉽게 만들 수 있는 내장 함수\n",
    " - 주어진 값에 따라 다양한 결과를 반환\n",
    " "
   ]
  },
  {
   "cell_type": "code",
   "execution_count": 6,
   "metadata": {},
   "outputs": [
    {
     "data": {
      "text/plain": [
       "[1, 3, 5, 7, 9]"
      ]
     },
     "execution_count": 6,
     "metadata": {},
     "output_type": "execute_result"
    }
   ],
   "source": [
    "list(range(10)) # 기본적으로 0부터 생성\n",
    "list(range(1, 7)) # 1부터 6까지 생성 (끝은 포함하지 않는다.)\n",
    "list(range(1, 10 ,2)) #1부터 9까지 생성 (2씩 건너뛴다.)"
   ]
  },
  {
   "cell_type": "code",
   "execution_count": 7,
   "metadata": {},
   "outputs": [
    {
     "name": "stdout",
     "output_type": "stream",
     "text": [
      "2 * 1 = 2\n",
      "2 * 2 = 4\n",
      "2 * 3 = 6\n",
      "2 * 4 = 8\n",
      "2 * 5 = 10\n",
      "2 * 6 = 12\n",
      "2 * 7 = 14\n",
      "2 * 8 = 16\n",
      "2 * 9 = 18\n",
      "3 * 1 = 3\n",
      "3 * 2 = 6\n",
      "3 * 3 = 9\n",
      "3 * 4 = 12\n",
      "3 * 5 = 15\n",
      "3 * 6 = 18\n",
      "3 * 7 = 21\n",
      "3 * 8 = 24\n",
      "3 * 9 = 27\n",
      "4 * 1 = 4\n",
      "4 * 2 = 8\n",
      "4 * 3 = 12\n",
      "4 * 4 = 16\n",
      "4 * 5 = 20\n",
      "4 * 6 = 24\n",
      "4 * 7 = 28\n",
      "4 * 8 = 32\n",
      "4 * 9 = 36\n",
      "5 * 1 = 5\n",
      "5 * 2 = 10\n",
      "5 * 3 = 15\n",
      "5 * 4 = 20\n",
      "5 * 5 = 25\n",
      "5 * 6 = 30\n",
      "5 * 7 = 35\n",
      "5 * 8 = 40\n",
      "5 * 9 = 45\n",
      "6 * 1 = 6\n",
      "6 * 2 = 12\n",
      "6 * 3 = 18\n",
      "6 * 4 = 24\n",
      "6 * 5 = 30\n",
      "6 * 6 = 36\n",
      "6 * 7 = 42\n",
      "6 * 8 = 48\n",
      "6 * 9 = 54\n",
      "7 * 1 = 7\n",
      "7 * 2 = 14\n",
      "7 * 3 = 21\n",
      "7 * 4 = 28\n",
      "7 * 5 = 35\n",
      "7 * 6 = 42\n",
      "7 * 7 = 49\n",
      "7 * 8 = 56\n",
      "7 * 9 = 63\n",
      "8 * 1 = 8\n",
      "8 * 2 = 16\n",
      "8 * 3 = 24\n",
      "8 * 4 = 32\n",
      "8 * 5 = 40\n",
      "8 * 6 = 48\n",
      "8 * 7 = 56\n",
      "8 * 8 = 64\n",
      "8 * 9 = 72\n",
      "9 * 1 = 9\n",
      "9 * 2 = 18\n",
      "9 * 3 = 27\n",
      "9 * 4 = 36\n",
      "9 * 5 = 45\n",
      "9 * 6 = 54\n",
      "9 * 7 = 63\n",
      "9 * 8 = 72\n",
      "9 * 9 = 81\n"
     ]
    }
   ],
   "source": [
    "#구구단\n",
    "\n",
    "a = list(range(2,10))\n",
    "b = list(range(1,10))\n",
    "\n",
    "for i in a:\n",
    "    for j in b:\n",
    "        print(i, '*', j, '=', i*j) "
   ]
  },
  {
   "cell_type": "code",
   "execution_count": 10,
   "metadata": {},
   "outputs": [
    {
     "name": "stdout",
     "output_type": "stream",
     "text": [
      "2\n",
      "4\n",
      "6\n",
      "8\n",
      "10\n",
      "11\n",
      "12\n",
      "14\n",
      "16\n",
      "18\n",
      "20\n",
      "22\n",
      "24\n",
      "26\n",
      "28\n",
      "30\n",
      "32\n",
      "33\n",
      "34\n",
      "36\n",
      "38\n",
      "40\n",
      "42\n",
      "44\n",
      "46\n",
      "48\n",
      "50\n",
      "52\n",
      "54\n",
      "55\n",
      "56\n",
      "58\n",
      "60\n",
      "62\n",
      "64\n",
      "66\n",
      "68\n",
      "70\n",
      "72\n",
      "74\n",
      "76\n",
      "77\n",
      "78\n",
      "80\n",
      "82\n",
      "84\n",
      "86\n",
      "88\n",
      "90\n",
      "92\n",
      "94\n",
      "96\n",
      "98\n",
      "99\n",
      "100\n"
     ]
    }
   ],
   "source": [
    "# 1부터 100까지 2 또는11의 배수 찾기\n",
    "a = list(range(1,101)) \n",
    "\n",
    "for i in a:\n",
    "    if i % 2 == 0 or i % 11 ==0:\n",
    "        print(i)"
   ]
  },
  {
   "cell_type": "code",
   "execution_count": 9,
   "metadata": {},
   "outputs": [
    {
     "name": "stdout",
     "output_type": "stream",
     "text": [
      "1 99\n",
      "1 99\n"
     ]
    }
   ],
   "source": [
    "# 정렬되어 있지 않은 것들 중에서 최대값과 최소값 찾기\n",
    "a= [22, 1, 3, 4, 7, 98, 21, 55, 87, 99, 19, 20, 45]\n",
    "\n",
    "a.sort()\n",
    "print(a[0],a[-1]) # 정렬을 사용하여 찾음\n",
    "\n",
    "# 정렬을 사용하지 않고 찾기\n",
    "a= [22, 1, 3, 4, 7, 98, 21, 55, 87, 99, 19, 20, 45]\n",
    "\n",
    "min = a[0]\n",
    "max = a[0]\n",
    "\n",
    "\n",
    "for i in a:\n",
    "    if min > i:\n",
    "        min = i\n",
    "    if max < i:\n",
    "        max = i   \n",
    "\n",
    "\n",
    "        \n",
    "print(min,max)\n",
    "        \n",
    "        \n",
    "        "
   ]
  },
  {
   "cell_type": "code",
   "execution_count": 8,
   "metadata": {},
   "outputs": [
    {
     "name": "stdout",
     "output_type": "stream",
     "text": [
      "37.0\n",
      "37.0\n"
     ]
    }
   ],
   "source": [
    "# 평균 구하기\n",
    "a= [22, 1, 3, 4, 7, 98, 21, 55, 87, 99, 19, 20, 45]\n",
    "sum = 0\n",
    "i = 0\n",
    "\n",
    "while i < len(a):\n",
    "    sum += a[i]\n",
    "    i += 1\n",
    "    \n",
    "print (sum/len(a))\n",
    "\n",
    "sum = 0\n",
    "for j in a:\n",
    "    sum += j\n",
    "\n",
    "print(sum/len(a))"
   ]
  },
  {
   "cell_type": "code",
   "execution_count": null,
   "metadata": {},
   "outputs": [],
   "source": []
  }
 ],
 "metadata": {
  "kernelspec": {
   "display_name": "Python 3",
   "language": "python",
   "name": "python3"
  },
  "language_info": {
   "codemirror_mode": {
    "name": "ipython",
    "version": 3
   },
   "file_extension": ".py",
   "mimetype": "text/x-python",
   "name": "python",
   "nbconvert_exporter": "python",
   "pygments_lexer": "ipython3",
   "version": "3.8.5"
  }
 },
 "nbformat": 4,
 "nbformat_minor": 4
}
