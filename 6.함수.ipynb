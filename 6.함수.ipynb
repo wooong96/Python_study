{
 "cells": [
  {
   "cell_type": "markdown",
   "metadata": {},
   "source": [
    "# 함수?\n",
    " - 지금까지 무심코 코드에서 사용된 많은 함수들이 존재한다.\n",
    " - sum, len, range 같은 함수들이 있다.\n",
    " - 이런 것들은 이미 python 내부에 이미 구현되어있다.\n",
    " - 위와 같은 것들을 내장 함수라 한다.\n",
    " "
   ]
  },
  {
   "cell_type": "code",
   "execution_count": 2,
   "metadata": {},
   "outputs": [
    {
     "name": "stdout",
     "output_type": "stream",
     "text": [
      "10\n"
     ]
    }
   ],
   "source": [
    "a = [1, 2, 3, 4]\n",
    "_sum = sum(a)\n",
    "print(_sum)"
   ]
  },
  {
   "cell_type": "code",
   "execution_count": 5,
   "metadata": {},
   "outputs": [
    {
     "name": "stdout",
     "output_type": "stream",
     "text": [
      "5\n"
     ]
    }
   ],
   "source": [
    "def add(x, y):\n",
    "    n = x + y\n",
    "    return n\n",
    "\n",
    "print(add(2,3))"
   ]
  },
  {
   "cell_type": "markdown",
   "metadata": {},
   "source": [
    "## 함수 네이밍(naming)\n",
    " - 함수 이름으로부터 기능이 명시\n",
    " - 의미와 반대되거나 맞지 않는 이름은 사용금지\n",
    " "
   ]
  },
  {
   "cell_type": "markdown",
   "metadata": {},
   "source": [
    "## parameter(argument) (인자)\n",
    " - 입력이 필요하지 않을 수도, 1개의 입력만 있을수도, 여러개의 입력이 존재할 수 도 있음\n",
    " - 파라미터로 int, string, float, bloom, list, dict 등등 어떤 파이썬 객체도 전달 가능\n",
    " - 심지어 함수도 함수의 파라미터로 전달 가능\n",
    " "
   ]
  },
  {
   "cell_type": "code",
   "execution_count": 7,
   "metadata": {},
   "outputs": [
    {
     "name": "stdout",
     "output_type": "stream",
     "text": [
      "15\n"
     ]
    }
   ],
   "source": [
    "def add(x, y, z=5): # z에 기본값 5 설정\n",
    "    a = x + y + z\n",
    "    return a\n",
    "\n",
    "print(add(10,0)) # z인자를 입력하지 않아도 가능"
   ]
  },
  {
   "cell_type": "markdown",
   "metadata": {},
   "source": [
    "## return (리턴)\n",
    " - 기본적으로 함수의 종료를 명시\n",
    " - return 만 존재하면 None 반환\n",
    " - return이 없는 경우, 기본적으로 함수 코드 블록이 종료되면 종료로 간주. 이때도 None 반환"
   ]
  },
  {
   "cell_type": "code",
   "execution_count": 4,
   "metadata": {},
   "outputs": [
    {
     "name": "stdout",
     "output_type": "stream",
     "text": [
      "<class 'tuple'>\n",
      "(23, 60)\n",
      "23 60\n"
     ]
    }
   ],
   "source": [
    "def add_mul(x,y):\n",
    "    s = x + y\n",
    "    m = x * y\n",
    "    \n",
    "    return s, m\n",
    "\n",
    "c = add_mul(20,3)\n",
    "a, b = add_mul(20,3)\n",
    "\n",
    "print(type(c))\n",
    "print(c) # 튜플 형태로 나타남\n",
    "print(a,b)"
   ]
  },
  {
   "cell_type": "code",
   "execution_count": null,
   "metadata": {},
   "outputs": [],
   "source": [
    "num1 = 10\n",
    "num2 = 30 # 전역변수\n",
    "\n",
    "def test(num1, num2):\n",
    "    print(num1, num2) # 지역변수\n",
    "    return num1 + num2\n",
    "\n",
    "test(30,40)\n",
    "print(num1,num2)"
   ]
  },
  {
   "cell_type": "markdown",
   "metadata": {},
   "source": [
    "## Variable length argument(가변길이 인자)\n",
    " - 전달되는 파라미터의 개수가 고정적이지 않은 경우\n",
    "     - *args : 파라미터를 튜플의 형태로 전달\n",
    "     - **kwarg : 파라미터를 딕셔너리 형태로 전달"
   ]
  },
  {
   "cell_type": "code",
   "execution_count": null,
   "metadata": {},
   "outputs": [],
   "source": [
    "def test(*args): # arguments (관례적으로 args로 코드작성)\n",
    "    for item in args:\n",
    "        print(item)\n",
    "\n",
    "test(10, 20, 30) #튜플 형태"
   ]
  },
  {
   "cell_type": "code",
   "execution_count": 5,
   "metadata": {},
   "outputs": [
    {
     "name": "stdout",
     "output_type": "stream",
     "text": [
      "key:  a , value:  1\n",
      "key:  b , value:  2\n",
      "key:  c , value:  3\n",
      "key:  d , value:  4\n",
      "key:  name , value:  Woong\n"
     ]
    }
   ],
   "source": [
    "def test2(**x): # kwargs -> key word arguments (관례적으로 kwargs로 작성)\n",
    "    for key, value in x.items():\n",
    "        print('key: ', key, ', value: ', value)\n",
    "\n",
    "test2(a = 1, b = 2, c = 3, d = 4, name = 'Woong') #딕셔너리 형태"
   ]
  },
  {
   "cell_type": "markdown",
   "metadata": {},
   "source": [
    "## Lambda 함수\n",
    " - 단일문으로 표현되는 익명함수\n",
    " - 익명함수란 이름이 없는 구현체만 존재하는 간단한 함수를 의미\n",
    " - 코드상에서 한번만 사용되는 기능이 있을 때, 굳이 함수로 만들지 않고 1회성으로 만들어서 쓸 때 사용."
   ]
  },
  {
   "cell_type": "code",
   "execution_count": 6,
   "metadata": {},
   "outputs": [
    {
     "name": "stdout",
     "output_type": "stream",
     "text": [
      "<class 'function'>\n"
     ]
    },
    {
     "data": {
      "text/plain": [
       "25"
      ]
     },
     "execution_count": 6,
     "metadata": {},
     "output_type": "execute_result"
    }
   ],
   "source": [
    "square = lambda x: x**2\n",
    "\n",
    "print(type(square))\n",
    "square(5)"
   ]
  },
  {
   "cell_type": "code",
   "execution_count": 7,
   "metadata": {},
   "outputs": [
    {
     "name": "stdout",
     "output_type": "stream",
     "text": [
      "['bob', 'teddy', 'charles', 'alexander3']\n"
     ]
    }
   ],
   "source": [
    "def str_len(s):\n",
    "    return len(s)\n",
    "\n",
    "\n",
    "strings = ['bob', 'charles', 'alexander3', 'teddy']\n",
    "#strings.sort(key=str_len)\n",
    "strings.sort(key=lambda s:len(s))\n",
    "print(strings)"
   ]
  },
  {
   "cell_type": "markdown",
   "metadata": {},
   "source": [
    "## filter, map, reduce\n",
    "   - filter : 특정 조건을 만족하는 요소만 남기고 필터링\n",
    "   - map : 각 원소를  주어진 수식에 따라 변형하여 새로운 리스트를 반환\n",
    "   - reduce : 차례대로 앞 2개의 원소를 가지고 연산. 결과가 또 다음 연산의 입력으로 진행. 최종출력은 한개의 값만 남는다.\n",
    "   "
   ]
  },
  {
   "cell_type": "code",
   "execution_count": 8,
   "metadata": {},
   "outputs": [],
   "source": [
    "def even(n):\n",
    "    return n % 2 ==0"
   ]
  },
  {
   "cell_type": "code",
   "execution_count": 9,
   "metadata": {},
   "outputs": [
    {
     "data": {
      "text/plain": [
       "[2, 4, 6, 8]"
      ]
     },
     "execution_count": 9,
     "metadata": {},
     "output_type": "execute_result"
    }
   ],
   "source": [
    "nums = [1, 2, 3, 4, 5, 6, 8, 9]\n",
    "\n",
    "list(filter(even,nums)) #filter(함수, 리스트) / 함수가 True일때 "
   ]
  },
  {
   "cell_type": "code",
   "execution_count": 10,
   "metadata": {},
   "outputs": [
    {
     "data": {
      "text/plain": [
       "[1, 4, 9, 16, 25, 36, 64, 81]"
      ]
     },
     "execution_count": 10,
     "metadata": {},
     "output_type": "execute_result"
    }
   ],
   "source": [
    "nums = [1, 2, 3, 4, 5, 6, 8, 9]\n",
    "list(map(lambda n:n**2, nums))  #map"
   ]
  },
  {
   "cell_type": "code",
   "execution_count": 11,
   "metadata": {},
   "outputs": [
    {
     "data": {
      "text/plain": [
       "38"
      ]
     },
     "execution_count": 11,
     "metadata": {},
     "output_type": "execute_result"
    }
   ],
   "source": [
    "import functools\n",
    "\n",
    "a = [1, 2, 3, 4, 5, 6, 8, 9]\n",
    "\n",
    "functools.reduce(lambda x,y:x+y, a) #reduce"
   ]
  },
  {
   "cell_type": "code",
   "execution_count": 12,
   "metadata": {},
   "outputs": [
    {
     "name": "stdout",
     "output_type": "stream",
     "text": [
      "2.0\n"
     ]
    }
   ],
   "source": [
    "# 주어진 숫자 리스트의 평균을 구하는 함수\n",
    "\n",
    "def mean(nums):\n",
    "    _sum = 0\n",
    "    for i in nums:\n",
    "        _sum += i\n",
    "    return _sum / len(nums)\n",
    "\n",
    "print(mean([1,2,3]))"
   ]
  },
  {
   "cell_type": "code",
   "execution_count": 13,
   "metadata": {},
   "outputs": [
    {
     "name": "stdout",
     "output_type": "stream",
     "text": [
      "True\n"
     ]
    }
   ],
   "source": [
    "# 소수 판별\n",
    "\n",
    "def is_prime(num):\n",
    "    for i in range(2,num):\n",
    "        \n",
    "        if num % i == 0:\n",
    "            return False\n",
    "        \n",
    "        else:\n",
    "            return True\n",
    "\n",
    "print(is_prime(13))"
   ]
  },
  {
   "cell_type": "code",
   "execution_count": 14,
   "metadata": {},
   "outputs": [
    {
     "name": "stdout",
     "output_type": "stream",
     "text": [
      "6\n"
     ]
    }
   ],
   "source": [
    "# 2부터 해당 숫자 사이에 소수가 몇개인지?\n",
    "\n",
    "def num_prime(num):\n",
    "    cnt = 0\n",
    "    for i in range(2,num+1):\n",
    "        if is_prime(i):\n",
    "            cnt += 1\n",
    "      \n",
    "    return cnt\n",
    "\n",
    "print(num_prime(13))\n",
    "        "
   ]
  },
  {
   "cell_type": "code",
   "execution_count": null,
   "metadata": {},
   "outputs": [],
   "source": []
  },
  {
   "cell_type": "code",
   "execution_count": null,
   "metadata": {},
   "outputs": [],
   "source": []
  }
 ],
 "metadata": {
  "kernelspec": {
   "display_name": "Python 3",
   "language": "python",
   "name": "python3"
  },
  "language_info": {
   "codemirror_mode": {
    "name": "ipython",
    "version": 3
   },
   "file_extension": ".py",
   "mimetype": "text/x-python",
   "name": "python",
   "nbconvert_exporter": "python",
   "pygments_lexer": "ipython3",
   "version": "3.8.5"
  }
 },
 "nbformat": 4,
 "nbformat_minor": 4
}
