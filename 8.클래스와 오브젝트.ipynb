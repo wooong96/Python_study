{
 "cells": [
  {
   "cell_type": "code",
   "execution_count": 1,
   "metadata": {},
   "outputs": [],
   "source": [
    "# 클래스는 틀 ex) list\n",
    "# 클래스에는 속성(attribute), 행동(method)\n",
    "# attribute -> Items /  method -> append, extend\n",
    "\n",
    "# 오브젝트는 [1,2,3], ['Hello', 'World']"
   ]
  },
  {
   "cell_type": "markdown",
   "metadata": {},
   "source": [
    "## 클래스란?\n",
    " - 실세계의 것을 모델링하여 속성(attribute)와 동작(method)를 갖는 데이터 타입\n",
    " - python 에서의 string,int,list,dict.. 모두 다 클래스로 존재\n",
    " - 모델링에서 중요시 하는 속성에 따라 클래스의 속성과 행동이 달라진다.\n",
    " "
   ]
  },
  {
   "cell_type": "code",
   "execution_count": 2,
   "metadata": {},
   "outputs": [
    {
     "name": "stdout",
     "output_type": "stream",
     "text": [
      "[1, 2, 3, 4, 5]\n"
     ]
    }
   ],
   "source": [
    "a = [1, 2, 3, 4]\n",
    "a.append(5)\n",
    "print(a)"
   ]
  },
  {
   "cell_type": "markdown",
   "metadata": {},
   "source": [
    "## 오브젝트란?\n",
    " - 클래스로 생성되어 구체화 된 객체(인스턴스)\n",
    " - 파이썬의 모든 것 (int,str,list...etc)은 객체(인스턴스)\n",
    " - 실제로 클래스(class)가 인스턴스화 되어 메모리에 상주하는 상태를 의미\n",
    " - class가 빵틀이라면, object는 실제로 빵틀로 찍어낸 빵이라고 비유"
   ]
  },
  {
   "cell_type": "code",
   "execution_count": 3,
   "metadata": {},
   "outputs": [
    {
     "name": "stdout",
     "output_type": "stream",
     "text": [
      "<class '__main__.Person'> <class '__main__.Person'>\n"
     ]
    }
   ],
   "source": [
    "class Person:\n",
    "    pass # 오류를 발생시키지 않고 빈 상태를 구현 가능\n",
    "\n",
    "bob = Person()\n",
    "cathy = Person()\n",
    "\n",
    "print(type(bob), type(cathy))"
   ]
  },
  {
   "cell_type": "markdown",
   "metadata": {},
   "source": [
    "## _ __init__ _(self)\n",
    " - 생성자, 클래스 인스턴스가 생성될 때 호출됨\n",
    " - self인자는 항상 첫번째에 오며 자기 자신을 가리킴\n",
    " - 이름이 꼭 self일 필요는 없지만, 관례적으로 self로 사용\n",
    " "
   ]
  },
  {
   "cell_type": "code",
   "execution_count": 4,
   "metadata": {},
   "outputs": [
    {
     "name": "stdout",
     "output_type": "stream",
     "text": [
      "<__main__.Person object at 0x000002CD5EB63280> is generated\n",
      "<__main__.Person object at 0x000002CD5EB630A0> is generated\n",
      "Kate 10\n",
      "aaron 20\n"
     ]
    }
   ],
   "source": [
    "class Person:\n",
    "    def __init__(self):\n",
    "        print(self, 'is generated')\n",
    "        self.name = 'Kate'\n",
    "        self.age = 10\n",
    "        \n",
    "p1 = Person()\n",
    "p2 = Person()\n",
    "\n",
    "print(p1.name, p1.age)\n",
    "p1.name = 'aaron'\n",
    "p1.age = 20\n",
    "print(p1.name,p1.age)\n",
    "\n"
   ]
  },
  {
   "cell_type": "code",
   "execution_count": 15,
   "metadata": {},
   "outputs": [
    {
     "name": "stdout",
     "output_type": "stream",
     "text": [
      "<__main__.Person object at 0x000002CD5EB7A370> is generated\n",
      "<__main__.Person object at 0x000002CD5EB7A3D0> is generated\n",
      "<__main__.Person object at 0x000002CD5EB7A700> is generated\n",
      "Bob 20\n",
      "Kim 10\n"
     ]
    }
   ],
   "source": [
    "class Person:\n",
    "    def __init__(self,name,age=10): # 동적으로 할당 , age는 기본적으로 10\n",
    "        print(self, 'is generated')\n",
    "        self.name = name\n",
    "        self.age = age\n",
    "\n",
    "p1 = Person('Bob', 30)\n",
    "p2 = Person('Kate', 20)\n",
    "p3 = Person('Kim')\n",
    "\n",
    "print(p1.name, p2.age)\n",
    "print(p3.name, p3.age)\n"
   ]
  },
  {
   "cell_type": "markdown",
   "metadata": {},
   "source": [
    "## self\n",
    " - 파이썬의 method는 항상 첫번째 인자로 self를 전달\n",
    " - self는 현재 해당 메소드가 호출되는 객체 자신을 가리킴\n",
    " - Java,C++의 this에 해당\n",
    " - 역시 이름이 self일 필요는 없으나 관례적으로 self를 사용\n",
    " "
   ]
  },
  {
   "cell_type": "code",
   "execution_count": 21,
   "metadata": {},
   "outputs": [
    {
     "name": "stdout",
     "output_type": "stream",
     "text": [
      "<__main__.Person object at 0x000002CD5EB7ABB0>\n",
      "self :  <__main__.Person object at 0x000002CD5EB7ABB0>\n",
      "Aaron 은 잠을 잡니다\n"
     ]
    }
   ],
   "source": [
    "class Person:\n",
    "    def __init__(self, name, age):\n",
    "        self.name = name\n",
    "        self.Age = age\n",
    "    def sleep(self):\n",
    "        print('self : ', self)\n",
    "        print(self.name, '은 잠을 잡니다')\n",
    "\n",
    "a = Person('Aaron' ,20)\n",
    "b = Person('Bob', 30)\n",
    "\n",
    "print(a)\n",
    "a.sleep() #괄호 안에 a가 자동으로 들어감 -> self로 인해"
   ]
  },
  {
   "cell_type": "code",
   "execution_count": null,
   "metadata": {},
   "outputs": [],
   "source": []
  }
 ],
 "metadata": {
  "kernelspec": {
   "display_name": "Python 3",
   "language": "python",
   "name": "python3"
  },
  "language_info": {
   "codemirror_mode": {
    "name": "ipython",
    "version": 3
   },
   "file_extension": ".py",
   "mimetype": "text/x-python",
   "name": "python",
   "nbconvert_exporter": "python",
   "pygments_lexer": "ipython3",
   "version": "3.8.5"
  }
 },
 "nbformat": 4,
 "nbformat_minor": 4
}
